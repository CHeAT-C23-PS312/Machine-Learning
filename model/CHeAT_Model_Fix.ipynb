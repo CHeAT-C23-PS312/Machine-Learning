{
  "nbformat": 4,
  "nbformat_minor": 0,
  "metadata": {
    "colab": {
      "provenance": []
    },
    "kernelspec": {
      "name": "python3",
      "display_name": "Python 3"
    },
    "language_info": {
      "name": "python"
    }
  },
  "cells": [
    {
      "cell_type": "markdown",
      "source": [
        "# **Import Library**"
      ],
      "metadata": {
        "id": "9_kKA2UehuZi"
      }
    },
    {
      "cell_type": "code",
      "execution_count": null,
      "metadata": {
        "id": "v3T0jihi8TpA"
      },
      "outputs": [],
      "source": [
        "import io\n",
        "import sys\n",
        "import json\n",
        "import string\n",
        "import numpy as np\n",
        "import tensorflow as tf\n",
        "from tensorflow import keras\n",
        "from tensorflow.keras.preprocessing.text import Tokenizer\n",
        "from tensorflow.keras.preprocessing.sequence import pad_sequences"
      ]
    },
    {
      "cell_type": "markdown",
      "source": [
        "# **Read JSON File**"
      ],
      "metadata": {
        "id": "1T-3pNXmaX1I"
      }
    },
    {
      "cell_type": "code",
      "source": [
        "with open('recipe.json', 'r') as f:\n",
        "    data = json.load(f)"
      ],
      "metadata": {
        "id": "8gpHZknrvR4g"
      },
      "execution_count": null,
      "outputs": []
    },
    {
      "cell_type": "markdown",
      "source": [
        "# **Define Path**"
      ],
      "metadata": {
        "id": "ixCH2_-livd7"
      }
    },
    {
      "cell_type": "code",
      "source": [
        "word_index_path = 'word_index.json'\n",
        "tags_path = 'tag.json'\n",
        "model_path = 'model.h5'"
      ],
      "metadata": {
        "id": "jUCfrKAozfvo"
      },
      "execution_count": null,
      "outputs": []
    },
    {
      "cell_type": "markdown",
      "source": [
        "# **Setting Parameters**"
      ],
      "metadata": {
        "id": "KQjdYw4bisWt"
      }
    },
    {
      "cell_type": "code",
      "source": [
        "MAX_INGREDIENTS = 2\n",
        "MAX_WORDS_IN_INGREDIENT = 10\n",
        "MAX_TAGS = 200\n",
        "MAX_VOCAB_SIZE = 10000"
      ],
      "metadata": {
        "id": "m9l7ix0rzmyl"
      },
      "execution_count": null,
      "outputs": []
    },
    {
      "cell_type": "markdown",
      "source": [
        "# **Load + Save Tags and Word Index**"
      ],
      "metadata": {
        "id": "03e1wpYCiOxA"
      }
    },
    {
      "cell_type": "code",
      "source": [
        "def load_tags():\n",
        "    try:\n",
        "        f = open(tags_path, 'r')\n",
        "        tags = json.loads(f.read())\n",
        "        f.close()\n",
        "    except FileNotFoundError:\n",
        "        tags = []\n",
        "    return tags\n",
        "def save_tags(tags):\n",
        "    tags_file = open(tags_path, 'w+')\n",
        "    tags_file.write(json.dumps(tags))\n",
        "    tags_file.close()"
      ],
      "metadata": {
        "id": "IVQfNUDlzwAu"
      },
      "execution_count": null,
      "outputs": []
    },
    {
      "cell_type": "code",
      "source": [
        "def load_word_index():\n",
        "    try:\n",
        "        f = open(word_index_path, 'r')\n",
        "        word_index = json.loads(f.read())\n",
        "        f.close()\n",
        "    except FileNotFoundError:\n",
        "        word_index = {'<PAD>': 0, '<OOV>': 1}\n",
        "    return word_index\n",
        "\n",
        "def save_word_index(word_index):\n",
        "    word_index_file = open(word_index_path, 'w+')\n",
        "    word_index_file.write(json.dumps(word_index))\n",
        "    word_index_file.close()"
      ],
      "metadata": {
        "id": "4BpVQq7wzzl2"
      },
      "execution_count": null,
      "outputs": []
    },
    {
      "cell_type": "markdown",
      "source": [
        "# **Preprocessing**"
      ],
      "metadata": {
        "id": "qnrGAcIdidOD"
      }
    },
    {
      "cell_type": "markdown",
      "source": [
        "## **Tokenizing, Sequencing, and Padding Ingredients**"
      ],
      "metadata": {
        "id": "RrKyLENBjmop"
      }
    },
    {
      "cell_type": "code",
      "source": [
        "def preprocess(dataframe):\n",
        "    tokenizer = keras.preprocessing.text.Tokenizer(lower=True, filters=' ')\n",
        "\n",
        "    # Tokenizing word_index and creating vocabulary of word_index\n",
        "    word_index = load_word_index()\n",
        "    for recipe in data:\n",
        "        for ingredient in recipe['ingredients']:\n",
        "            tokenizer.fit_on_texts([ingredient])\n",
        "\n",
        "    word_index.update(tokenizer.word_index)\n",
        "    save_word_index(word_index)\n",
        "\n",
        "    # Creating list of recipe tags\n",
        "    tags = load_tags()\n",
        "    for recipe in data:\n",
        "        tag_lower = recipe['tag'].lower()\n",
        "        if tag_lower not in tags:\n",
        "            tags.append(tag_lower)\n",
        "    save_tags(tags)\n",
        "\n",
        "    # Tokenizing and padding the ingredients\n",
        "    train_data = []\n",
        "    for recipe in data:\n",
        "        recipe_data = tokenizer.texts_to_sequences(recipe['ingredients'])\n",
        "        recipe_data = [item for sublist in recipe_data for item in sublist]  # Flatten the nested list\n",
        "        train_data.append(recipe_data)\n",
        "\n",
        "    # Padding the number of ingredients and words in each recipe\n",
        "    train_data = keras.preprocessing.sequence.pad_sequences(train_data, padding='post', maxlen=MAX_INGREDIENTS * MAX_WORDS_IN_INGREDIENT, value=0)\n",
        "    train_labels = [tags.index(dish['tag'].lower()) for dish in data]\n",
        "    train_labels = keras.utils.to_categorical(train_labels, num_classes=MAX_TAGS)\n",
        "\n",
        "    return train_data, train_labels, word_index, tags"
      ],
      "metadata": {
        "id": "9HKwhC-vz_Ww"
      },
      "execution_count": null,
      "outputs": []
    },
    {
      "cell_type": "code",
      "source": [
        "train_data, train_labels, word_index, tags = preprocess(data)"
      ],
      "metadata": {
        "id": "ZKZL4vcG1vz3"
      },
      "execution_count": null,
      "outputs": []
    },
    {
      "cell_type": "code",
      "source": [
        "train_data.shape"
      ],
      "metadata": {
        "colab": {
          "base_uri": "https://localhost:8080/"
        },
        "id": "BlDdy8skFz0l",
        "outputId": "7f435509-4250-4beb-8698-a520f09fb1d0"
      },
      "execution_count": null,
      "outputs": [
        {
          "output_type": "execute_result",
          "data": {
            "text/plain": [
              "(200, 20)"
            ]
          },
          "metadata": {},
          "execution_count": 101
        }
      ]
    },
    {
      "cell_type": "code",
      "source": [
        "train_labels.shape"
      ],
      "metadata": {
        "colab": {
          "base_uri": "https://localhost:8080/"
        },
        "id": "kWEfSBeI0H6j",
        "outputId": "d405aad9-cfbe-422a-bd5d-7478ed35cbdf"
      },
      "execution_count": null,
      "outputs": [
        {
          "output_type": "execute_result",
          "data": {
            "text/plain": [
              "(200, 200)"
            ]
          },
          "metadata": {},
          "execution_count": 102
        }
      ]
    },
    {
      "cell_type": "markdown",
      "source": [
        "# **Creating The Model**"
      ],
      "metadata": {
        "id": "F0QAAMDQkjf9"
      }
    },
    {
      "cell_type": "code",
      "source": [
        "def create_model(max_vocab_size, max_tags):\n",
        "\n",
        "    tf.random.set_seed(123)\n",
        "\n",
        "    model = tf.keras.Sequential([\n",
        "        tf.keras.layers.Embedding(max_vocab_size, 64),\n",
        "        tf.keras.layers.Dropout(.1),\n",
        "        tf.keras.layers.GlobalMaxPooling1D(),\n",
        "        tf.keras.layers.Dropout(.1),\n",
        "        tf.keras.layers.Dense(32, activation='relu'),\n",
        "        tf.keras.layers.Dropout(.1),\n",
        "        tf.keras.layers.Dense(max_tags, activation='softmax')\n",
        "    ])\n",
        "    opt = tf.keras.optimizers.Adam()\n",
        "    model.compile(loss='categorical_crossentropy',\n",
        "                  optimizer=opt,\n",
        "                  metrics=['accuracy'])\n",
        "\n",
        "    return model"
      ],
      "metadata": {
        "id": "UT_3DT2UHuOv"
      },
      "execution_count": null,
      "outputs": []
    },
    {
      "cell_type": "code",
      "source": [
        "model = create_model(MAX_VOCAB_SIZE, MAX_TAGS)\n",
        "history = model.fit(train_data, train_labels, epochs=300, verbose=2)"
      ],
      "metadata": {
        "colab": {
          "base_uri": "https://localhost:8080/"
        },
        "id": "W80GEDwyJDhz",
        "outputId": "b0189447-1730-49d6-b082-9bc6b6c2b1d1"
      },
      "execution_count": null,
      "outputs": [
        {
          "output_type": "stream",
          "name": "stdout",
          "text": [
            "Epoch 1/300\n",
            "7/7 - 1s - loss: 5.3021 - accuracy: 0.0050 - 1s/epoch - 185ms/step\n",
            "Epoch 2/300\n",
            "7/7 - 0s - loss: 5.2959 - accuracy: 0.0150 - 108ms/epoch - 15ms/step\n",
            "Epoch 3/300\n",
            "7/7 - 0s - loss: 5.2947 - accuracy: 0.0050 - 106ms/epoch - 15ms/step\n",
            "Epoch 4/300\n",
            "7/7 - 0s - loss: 5.2906 - accuracy: 0.0100 - 104ms/epoch - 15ms/step\n",
            "Epoch 5/300\n",
            "7/7 - 0s - loss: 5.2872 - accuracy: 0.0050 - 108ms/epoch - 15ms/step\n",
            "Epoch 6/300\n",
            "7/7 - 0s - loss: 5.2876 - accuracy: 0.0100 - 89ms/epoch - 13ms/step\n",
            "Epoch 7/300\n",
            "7/7 - 0s - loss: 5.2830 - accuracy: 0.0200 - 95ms/epoch - 14ms/step\n",
            "Epoch 8/300\n",
            "7/7 - 0s - loss: 5.2796 - accuracy: 0.0250 - 119ms/epoch - 17ms/step\n",
            "Epoch 9/300\n",
            "7/7 - 0s - loss: 5.2748 - accuracy: 0.0350 - 99ms/epoch - 14ms/step\n",
            "Epoch 10/300\n",
            "7/7 - 0s - loss: 5.2698 - accuracy: 0.0250 - 102ms/epoch - 15ms/step\n",
            "Epoch 11/300\n",
            "7/7 - 0s - loss: 5.2658 - accuracy: 0.0350 - 116ms/epoch - 17ms/step\n",
            "Epoch 12/300\n",
            "7/7 - 0s - loss: 5.2615 - accuracy: 0.0450 - 99ms/epoch - 14ms/step\n",
            "Epoch 13/300\n",
            "7/7 - 0s - loss: 5.2592 - accuracy: 0.0550 - 114ms/epoch - 16ms/step\n",
            "Epoch 14/300\n",
            "7/7 - 0s - loss: 5.2510 - accuracy: 0.0500 - 99ms/epoch - 14ms/step\n",
            "Epoch 15/300\n",
            "7/7 - 0s - loss: 5.2466 - accuracy: 0.0900 - 109ms/epoch - 16ms/step\n",
            "Epoch 16/300\n",
            "7/7 - 0s - loss: 5.2374 - accuracy: 0.0550 - 87ms/epoch - 12ms/step\n",
            "Epoch 17/300\n",
            "7/7 - 0s - loss: 5.2282 - accuracy: 0.0650 - 68ms/epoch - 10ms/step\n",
            "Epoch 18/300\n",
            "7/7 - 0s - loss: 5.2187 - accuracy: 0.0700 - 71ms/epoch - 10ms/step\n",
            "Epoch 19/300\n",
            "7/7 - 0s - loss: 5.2076 - accuracy: 0.1000 - 75ms/epoch - 11ms/step\n",
            "Epoch 20/300\n",
            "7/7 - 0s - loss: 5.1998 - accuracy: 0.0600 - 74ms/epoch - 11ms/step\n",
            "Epoch 21/300\n",
            "7/7 - 0s - loss: 5.1864 - accuracy: 0.0850 - 71ms/epoch - 10ms/step\n",
            "Epoch 22/300\n",
            "7/7 - 0s - loss: 5.1722 - accuracy: 0.0650 - 71ms/epoch - 10ms/step\n",
            "Epoch 23/300\n",
            "7/7 - 0s - loss: 5.1552 - accuracy: 0.0700 - 61ms/epoch - 9ms/step\n",
            "Epoch 24/300\n",
            "7/7 - 0s - loss: 5.1444 - accuracy: 0.0800 - 71ms/epoch - 10ms/step\n",
            "Epoch 25/300\n",
            "7/7 - 0s - loss: 5.1254 - accuracy: 0.0850 - 70ms/epoch - 10ms/step\n",
            "Epoch 26/300\n",
            "7/7 - 0s - loss: 5.1017 - accuracy: 0.1000 - 65ms/epoch - 9ms/step\n",
            "Epoch 27/300\n",
            "7/7 - 0s - loss: 5.0766 - accuracy: 0.1050 - 69ms/epoch - 10ms/step\n",
            "Epoch 28/300\n",
            "7/7 - 0s - loss: 5.0613 - accuracy: 0.1050 - 73ms/epoch - 10ms/step\n",
            "Epoch 29/300\n",
            "7/7 - 0s - loss: 5.0326 - accuracy: 0.0900 - 67ms/epoch - 10ms/step\n",
            "Epoch 30/300\n",
            "7/7 - 0s - loss: 5.0183 - accuracy: 0.1100 - 71ms/epoch - 10ms/step\n",
            "Epoch 31/300\n",
            "7/7 - 0s - loss: 4.9774 - accuracy: 0.1500 - 69ms/epoch - 10ms/step\n",
            "Epoch 32/300\n",
            "7/7 - 0s - loss: 4.9481 - accuracy: 0.1000 - 72ms/epoch - 10ms/step\n",
            "Epoch 33/300\n",
            "7/7 - 0s - loss: 4.9113 - accuracy: 0.1550 - 69ms/epoch - 10ms/step\n",
            "Epoch 34/300\n",
            "7/7 - 0s - loss: 4.8865 - accuracy: 0.1250 - 66ms/epoch - 9ms/step\n",
            "Epoch 35/300\n",
            "7/7 - 0s - loss: 4.8463 - accuracy: 0.1750 - 75ms/epoch - 11ms/step\n",
            "Epoch 36/300\n",
            "7/7 - 0s - loss: 4.8015 - accuracy: 0.1550 - 68ms/epoch - 10ms/step\n",
            "Epoch 37/300\n",
            "7/7 - 0s - loss: 4.7573 - accuracy: 0.1700 - 67ms/epoch - 10ms/step\n",
            "Epoch 38/300\n",
            "7/7 - 0s - loss: 4.7182 - accuracy: 0.2000 - 72ms/epoch - 10ms/step\n",
            "Epoch 39/300\n",
            "7/7 - 0s - loss: 4.6692 - accuracy: 0.2050 - 64ms/epoch - 9ms/step\n",
            "Epoch 40/300\n",
            "7/7 - 0s - loss: 4.6234 - accuracy: 0.2200 - 66ms/epoch - 9ms/step\n",
            "Epoch 41/300\n",
            "7/7 - 0s - loss: 4.5461 - accuracy: 0.2250 - 69ms/epoch - 10ms/step\n",
            "Epoch 42/300\n",
            "7/7 - 0s - loss: 4.5354 - accuracy: 0.1550 - 79ms/epoch - 11ms/step\n",
            "Epoch 43/300\n",
            "7/7 - 0s - loss: 4.4390 - accuracy: 0.2300 - 70ms/epoch - 10ms/step\n",
            "Epoch 44/300\n",
            "7/7 - 0s - loss: 4.3828 - accuracy: 0.2700 - 66ms/epoch - 9ms/step\n",
            "Epoch 45/300\n",
            "7/7 - 0s - loss: 4.3371 - accuracy: 0.3150 - 69ms/epoch - 10ms/step\n",
            "Epoch 46/300\n",
            "7/7 - 0s - loss: 4.2633 - accuracy: 0.3050 - 74ms/epoch - 11ms/step\n",
            "Epoch 47/300\n",
            "7/7 - 0s - loss: 4.1637 - accuracy: 0.3500 - 74ms/epoch - 11ms/step\n",
            "Epoch 48/300\n",
            "7/7 - 0s - loss: 4.1357 - accuracy: 0.3550 - 64ms/epoch - 9ms/step\n",
            "Epoch 49/300\n",
            "7/7 - 0s - loss: 4.0813 - accuracy: 0.3400 - 69ms/epoch - 10ms/step\n",
            "Epoch 50/300\n",
            "7/7 - 0s - loss: 3.9532 - accuracy: 0.4400 - 69ms/epoch - 10ms/step\n",
            "Epoch 51/300\n",
            "7/7 - 0s - loss: 3.8770 - accuracy: 0.4350 - 63ms/epoch - 9ms/step\n",
            "Epoch 52/300\n",
            "7/7 - 0s - loss: 3.7828 - accuracy: 0.4700 - 73ms/epoch - 10ms/step\n",
            "Epoch 53/300\n",
            "7/7 - 0s - loss: 3.7265 - accuracy: 0.4650 - 71ms/epoch - 10ms/step\n",
            "Epoch 54/300\n",
            "7/7 - 0s - loss: 3.6418 - accuracy: 0.5100 - 72ms/epoch - 10ms/step\n",
            "Epoch 55/300\n",
            "7/7 - 0s - loss: 3.5456 - accuracy: 0.5800 - 69ms/epoch - 10ms/step\n",
            "Epoch 56/300\n",
            "7/7 - 0s - loss: 3.5099 - accuracy: 0.5250 - 68ms/epoch - 10ms/step\n",
            "Epoch 57/300\n",
            "7/7 - 0s - loss: 3.3822 - accuracy: 0.5150 - 66ms/epoch - 9ms/step\n",
            "Epoch 58/300\n",
            "7/7 - 0s - loss: 3.3243 - accuracy: 0.6300 - 69ms/epoch - 10ms/step\n",
            "Epoch 59/300\n",
            "7/7 - 0s - loss: 3.1789 - accuracy: 0.6650 - 66ms/epoch - 9ms/step\n",
            "Epoch 60/300\n",
            "7/7 - 0s - loss: 3.1814 - accuracy: 0.6700 - 75ms/epoch - 11ms/step\n",
            "Epoch 61/300\n",
            "7/7 - 0s - loss: 3.0251 - accuracy: 0.6900 - 70ms/epoch - 10ms/step\n",
            "Epoch 62/300\n",
            "7/7 - 0s - loss: 2.9239 - accuracy: 0.7250 - 76ms/epoch - 11ms/step\n",
            "Epoch 63/300\n",
            "7/7 - 0s - loss: 2.9086 - accuracy: 0.6450 - 73ms/epoch - 10ms/step\n",
            "Epoch 64/300\n",
            "7/7 - 0s - loss: 2.7611 - accuracy: 0.7050 - 67ms/epoch - 10ms/step\n",
            "Epoch 65/300\n",
            "7/7 - 0s - loss: 2.7868 - accuracy: 0.6800 - 85ms/epoch - 12ms/step\n",
            "Epoch 66/300\n",
            "7/7 - 0s - loss: 2.6023 - accuracy: 0.7050 - 74ms/epoch - 11ms/step\n",
            "Epoch 67/300\n",
            "7/7 - 0s - loss: 2.4859 - accuracy: 0.7750 - 67ms/epoch - 10ms/step\n",
            "Epoch 68/300\n",
            "7/7 - 0s - loss: 2.4095 - accuracy: 0.8000 - 72ms/epoch - 10ms/step\n",
            "Epoch 69/300\n",
            "7/7 - 0s - loss: 2.3885 - accuracy: 0.7600 - 71ms/epoch - 10ms/step\n",
            "Epoch 70/300\n",
            "7/7 - 0s - loss: 2.3412 - accuracy: 0.7600 - 71ms/epoch - 10ms/step\n",
            "Epoch 71/300\n",
            "7/7 - 0s - loss: 2.2245 - accuracy: 0.8250 - 74ms/epoch - 11ms/step\n",
            "Epoch 72/300\n",
            "7/7 - 0s - loss: 2.2115 - accuracy: 0.7650 - 68ms/epoch - 10ms/step\n",
            "Epoch 73/300\n",
            "7/7 - 0s - loss: 2.0399 - accuracy: 0.8800 - 78ms/epoch - 11ms/step\n",
            "Epoch 74/300\n",
            "7/7 - 0s - loss: 2.0065 - accuracy: 0.8350 - 67ms/epoch - 10ms/step\n",
            "Epoch 75/300\n",
            "7/7 - 0s - loss: 1.8812 - accuracy: 0.8650 - 72ms/epoch - 10ms/step\n",
            "Epoch 76/300\n",
            "7/7 - 0s - loss: 1.8113 - accuracy: 0.8150 - 81ms/epoch - 12ms/step\n",
            "Epoch 77/300\n",
            "7/7 - 0s - loss: 1.7877 - accuracy: 0.8650 - 67ms/epoch - 10ms/step\n",
            "Epoch 78/300\n",
            "7/7 - 0s - loss: 1.7764 - accuracy: 0.8250 - 71ms/epoch - 10ms/step\n",
            "Epoch 79/300\n",
            "7/7 - 0s - loss: 1.7625 - accuracy: 0.8200 - 67ms/epoch - 10ms/step\n",
            "Epoch 80/300\n",
            "7/7 - 0s - loss: 1.6282 - accuracy: 0.8150 - 73ms/epoch - 10ms/step\n",
            "Epoch 81/300\n",
            "7/7 - 0s - loss: 1.6441 - accuracy: 0.8250 - 73ms/epoch - 10ms/step\n",
            "Epoch 82/300\n",
            "7/7 - 0s - loss: 1.6169 - accuracy: 0.8100 - 66ms/epoch - 9ms/step\n",
            "Epoch 83/300\n",
            "7/7 - 0s - loss: 1.5279 - accuracy: 0.8600 - 66ms/epoch - 9ms/step\n",
            "Epoch 84/300\n",
            "7/7 - 0s - loss: 1.4717 - accuracy: 0.8550 - 72ms/epoch - 10ms/step\n",
            "Epoch 85/300\n",
            "7/7 - 0s - loss: 1.3707 - accuracy: 0.8950 - 71ms/epoch - 10ms/step\n",
            "Epoch 86/300\n",
            "7/7 - 0s - loss: 1.3615 - accuracy: 0.8500 - 73ms/epoch - 10ms/step\n",
            "Epoch 87/300\n",
            "7/7 - 0s - loss: 1.2705 - accuracy: 0.9100 - 66ms/epoch - 9ms/step\n",
            "Epoch 88/300\n",
            "7/7 - 0s - loss: 1.3040 - accuracy: 0.8450 - 68ms/epoch - 10ms/step\n",
            "Epoch 89/300\n",
            "7/7 - 0s - loss: 1.1570 - accuracy: 0.8950 - 73ms/epoch - 10ms/step\n",
            "Epoch 90/300\n",
            "7/7 - 0s - loss: 1.1952 - accuracy: 0.8550 - 80ms/epoch - 11ms/step\n",
            "Epoch 91/300\n",
            "7/7 - 0s - loss: 1.1093 - accuracy: 0.8900 - 71ms/epoch - 10ms/step\n",
            "Epoch 92/300\n",
            "7/7 - 0s - loss: 1.1571 - accuracy: 0.8700 - 73ms/epoch - 10ms/step\n",
            "Epoch 93/300\n",
            "7/7 - 0s - loss: 1.0802 - accuracy: 0.9100 - 71ms/epoch - 10ms/step\n",
            "Epoch 94/300\n",
            "7/7 - 0s - loss: 1.0395 - accuracy: 0.8800 - 69ms/epoch - 10ms/step\n",
            "Epoch 95/300\n",
            "7/7 - 0s - loss: 1.0130 - accuracy: 0.8850 - 67ms/epoch - 10ms/step\n",
            "Epoch 96/300\n",
            "7/7 - 0s - loss: 1.0201 - accuracy: 0.8750 - 70ms/epoch - 10ms/step\n",
            "Epoch 97/300\n",
            "7/7 - 0s - loss: 1.0214 - accuracy: 0.8600 - 74ms/epoch - 11ms/step\n",
            "Epoch 98/300\n",
            "7/7 - 0s - loss: 0.9010 - accuracy: 0.9100 - 74ms/epoch - 11ms/step\n",
            "Epoch 99/300\n",
            "7/7 - 0s - loss: 0.8797 - accuracy: 0.9400 - 67ms/epoch - 10ms/step\n",
            "Epoch 100/300\n",
            "7/7 - 0s - loss: 0.9059 - accuracy: 0.9150 - 82ms/epoch - 12ms/step\n",
            "Epoch 101/300\n",
            "7/7 - 0s - loss: 0.9001 - accuracy: 0.8900 - 70ms/epoch - 10ms/step\n",
            "Epoch 102/300\n",
            "7/7 - 0s - loss: 0.8844 - accuracy: 0.9200 - 82ms/epoch - 12ms/step\n",
            "Epoch 103/300\n",
            "7/7 - 0s - loss: 0.8941 - accuracy: 0.8800 - 69ms/epoch - 10ms/step\n",
            "Epoch 104/300\n",
            "7/7 - 0s - loss: 0.8156 - accuracy: 0.9100 - 69ms/epoch - 10ms/step\n",
            "Epoch 105/300\n",
            "7/7 - 0s - loss: 0.7668 - accuracy: 0.9350 - 71ms/epoch - 10ms/step\n",
            "Epoch 106/300\n",
            "7/7 - 0s - loss: 0.7898 - accuracy: 0.9050 - 67ms/epoch - 10ms/step\n",
            "Epoch 107/300\n",
            "7/7 - 0s - loss: 0.7695 - accuracy: 0.9100 - 81ms/epoch - 12ms/step\n",
            "Epoch 108/300\n",
            "7/7 - 0s - loss: 0.7270 - accuracy: 0.9050 - 64ms/epoch - 9ms/step\n",
            "Epoch 109/300\n",
            "7/7 - 0s - loss: 0.6793 - accuracy: 0.9400 - 68ms/epoch - 10ms/step\n",
            "Epoch 110/300\n",
            "7/7 - 0s - loss: 0.7062 - accuracy: 0.8950 - 66ms/epoch - 9ms/step\n",
            "Epoch 111/300\n",
            "7/7 - 0s - loss: 0.7044 - accuracy: 0.9100 - 75ms/epoch - 11ms/step\n",
            "Epoch 112/300\n",
            "7/7 - 0s - loss: 0.7570 - accuracy: 0.9000 - 74ms/epoch - 11ms/step\n",
            "Epoch 113/300\n",
            "7/7 - 0s - loss: 0.6491 - accuracy: 0.9400 - 77ms/epoch - 11ms/step\n",
            "Epoch 114/300\n",
            "7/7 - 0s - loss: 0.6680 - accuracy: 0.9200 - 73ms/epoch - 10ms/step\n",
            "Epoch 115/300\n",
            "7/7 - 0s - loss: 0.6198 - accuracy: 0.9400 - 76ms/epoch - 11ms/step\n",
            "Epoch 116/300\n",
            "7/7 - 0s - loss: 0.5836 - accuracy: 0.9300 - 75ms/epoch - 11ms/step\n",
            "Epoch 117/300\n",
            "7/7 - 0s - loss: 0.6686 - accuracy: 0.9050 - 65ms/epoch - 9ms/step\n",
            "Epoch 118/300\n",
            "7/7 - 0s - loss: 0.5771 - accuracy: 0.9450 - 70ms/epoch - 10ms/step\n",
            "Epoch 119/300\n",
            "7/7 - 0s - loss: 0.5318 - accuracy: 0.9400 - 67ms/epoch - 10ms/step\n",
            "Epoch 120/300\n",
            "7/7 - 0s - loss: 0.5843 - accuracy: 0.9350 - 77ms/epoch - 11ms/step\n",
            "Epoch 121/300\n",
            "7/7 - 0s - loss: 0.6056 - accuracy: 0.9050 - 69ms/epoch - 10ms/step\n",
            "Epoch 122/300\n",
            "7/7 - 0s - loss: 0.6001 - accuracy: 0.9250 - 67ms/epoch - 10ms/step\n",
            "Epoch 123/300\n",
            "7/7 - 0s - loss: 0.5321 - accuracy: 0.9150 - 69ms/epoch - 10ms/step\n",
            "Epoch 124/300\n",
            "7/7 - 0s - loss: 0.5265 - accuracy: 0.9150 - 71ms/epoch - 10ms/step\n",
            "Epoch 125/300\n",
            "7/7 - 0s - loss: 0.5616 - accuracy: 0.9100 - 74ms/epoch - 11ms/step\n",
            "Epoch 126/300\n",
            "7/7 - 0s - loss: 0.4584 - accuracy: 0.9550 - 73ms/epoch - 10ms/step\n",
            "Epoch 127/300\n",
            "7/7 - 0s - loss: 0.4974 - accuracy: 0.9350 - 75ms/epoch - 11ms/step\n",
            "Epoch 128/300\n",
            "7/7 - 0s - loss: 0.4619 - accuracy: 0.9500 - 75ms/epoch - 11ms/step\n",
            "Epoch 129/300\n",
            "7/7 - 0s - loss: 0.5626 - accuracy: 0.9100 - 71ms/epoch - 10ms/step\n",
            "Epoch 130/300\n",
            "7/7 - 0s - loss: 0.4594 - accuracy: 0.9550 - 66ms/epoch - 9ms/step\n",
            "Epoch 131/300\n",
            "7/7 - 0s - loss: 0.4689 - accuracy: 0.9450 - 70ms/epoch - 10ms/step\n",
            "Epoch 132/300\n",
            "7/7 - 0s - loss: 0.4914 - accuracy: 0.9500 - 68ms/epoch - 10ms/step\n",
            "Epoch 133/300\n",
            "7/7 - 0s - loss: 0.3768 - accuracy: 0.9750 - 78ms/epoch - 11ms/step\n",
            "Epoch 134/300\n",
            "7/7 - 0s - loss: 0.4727 - accuracy: 0.9300 - 73ms/epoch - 10ms/step\n",
            "Epoch 135/300\n",
            "7/7 - 0s - loss: 0.4098 - accuracy: 0.9650 - 75ms/epoch - 11ms/step\n",
            "Epoch 136/300\n",
            "7/7 - 0s - loss: 0.4350 - accuracy: 0.9250 - 74ms/epoch - 11ms/step\n",
            "Epoch 137/300\n",
            "7/7 - 0s - loss: 0.4612 - accuracy: 0.9250 - 69ms/epoch - 10ms/step\n",
            "Epoch 138/300\n",
            "7/7 - 0s - loss: 0.4095 - accuracy: 0.9350 - 65ms/epoch - 9ms/step\n",
            "Epoch 139/300\n",
            "7/7 - 0s - loss: 0.4246 - accuracy: 0.9300 - 71ms/epoch - 10ms/step\n",
            "Epoch 140/300\n",
            "7/7 - 0s - loss: 0.3710 - accuracy: 0.9550 - 78ms/epoch - 11ms/step\n",
            "Epoch 141/300\n",
            "7/7 - 0s - loss: 0.3793 - accuracy: 0.9450 - 67ms/epoch - 10ms/step\n",
            "Epoch 142/300\n",
            "7/7 - 0s - loss: 0.3654 - accuracy: 0.9650 - 69ms/epoch - 10ms/step\n",
            "Epoch 143/300\n",
            "7/7 - 0s - loss: 0.4185 - accuracy: 0.9150 - 74ms/epoch - 11ms/step\n",
            "Epoch 144/300\n",
            "7/7 - 0s - loss: 0.3271 - accuracy: 0.9700 - 71ms/epoch - 10ms/step\n",
            "Epoch 145/300\n",
            "7/7 - 0s - loss: 0.4279 - accuracy: 0.9250 - 69ms/epoch - 10ms/step\n",
            "Epoch 146/300\n",
            "7/7 - 0s - loss: 0.3927 - accuracy: 0.9350 - 66ms/epoch - 9ms/step\n",
            "Epoch 147/300\n",
            "7/7 - 0s - loss: 0.3925 - accuracy: 0.9250 - 74ms/epoch - 11ms/step\n",
            "Epoch 148/300\n",
            "7/7 - 0s - loss: 0.3775 - accuracy: 0.9450 - 74ms/epoch - 11ms/step\n",
            "Epoch 149/300\n",
            "7/7 - 0s - loss: 0.3588 - accuracy: 0.9450 - 98ms/epoch - 14ms/step\n",
            "Epoch 150/300\n",
            "7/7 - 0s - loss: 0.3775 - accuracy: 0.9450 - 97ms/epoch - 14ms/step\n",
            "Epoch 151/300\n",
            "7/7 - 0s - loss: 0.4000 - accuracy: 0.9200 - 103ms/epoch - 15ms/step\n",
            "Epoch 152/300\n",
            "7/7 - 0s - loss: 0.2992 - accuracy: 0.9900 - 102ms/epoch - 15ms/step\n",
            "Epoch 153/300\n",
            "7/7 - 0s - loss: 0.3983 - accuracy: 0.9350 - 99ms/epoch - 14ms/step\n",
            "Epoch 154/300\n",
            "7/7 - 0s - loss: 0.3555 - accuracy: 0.9500 - 101ms/epoch - 14ms/step\n",
            "Epoch 155/300\n",
            "7/7 - 0s - loss: 0.2737 - accuracy: 0.9700 - 92ms/epoch - 13ms/step\n",
            "Epoch 156/300\n",
            "7/7 - 0s - loss: 0.3723 - accuracy: 0.9350 - 97ms/epoch - 14ms/step\n",
            "Epoch 157/300\n",
            "7/7 - 0s - loss: 0.3562 - accuracy: 0.9450 - 109ms/epoch - 16ms/step\n",
            "Epoch 158/300\n",
            "7/7 - 0s - loss: 0.3108 - accuracy: 0.9550 - 92ms/epoch - 13ms/step\n",
            "Epoch 159/300\n",
            "7/7 - 0s - loss: 0.2599 - accuracy: 0.9750 - 93ms/epoch - 13ms/step\n",
            "Epoch 160/300\n",
            "7/7 - 0s - loss: 0.3489 - accuracy: 0.9350 - 95ms/epoch - 14ms/step\n",
            "Epoch 161/300\n",
            "7/7 - 0s - loss: 0.2553 - accuracy: 0.9700 - 99ms/epoch - 14ms/step\n",
            "Epoch 162/300\n",
            "7/7 - 0s - loss: 0.3773 - accuracy: 0.9300 - 105ms/epoch - 15ms/step\n",
            "Epoch 163/300\n",
            "7/7 - 0s - loss: 0.3538 - accuracy: 0.9400 - 99ms/epoch - 14ms/step\n",
            "Epoch 164/300\n",
            "7/7 - 0s - loss: 0.2769 - accuracy: 0.9800 - 109ms/epoch - 16ms/step\n",
            "Epoch 165/300\n",
            "7/7 - 0s - loss: 0.2382 - accuracy: 0.9650 - 101ms/epoch - 14ms/step\n",
            "Epoch 166/300\n",
            "7/7 - 0s - loss: 0.2526 - accuracy: 0.9650 - 94ms/epoch - 13ms/step\n",
            "Epoch 167/300\n",
            "7/7 - 0s - loss: 0.3038 - accuracy: 0.9800 - 97ms/epoch - 14ms/step\n",
            "Epoch 168/300\n",
            "7/7 - 0s - loss: 0.2629 - accuracy: 0.9800 - 96ms/epoch - 14ms/step\n",
            "Epoch 169/300\n",
            "7/7 - 0s - loss: 0.2741 - accuracy: 0.9500 - 97ms/epoch - 14ms/step\n",
            "Epoch 170/300\n",
            "7/7 - 0s - loss: 0.3511 - accuracy: 0.9450 - 98ms/epoch - 14ms/step\n",
            "Epoch 171/300\n",
            "7/7 - 0s - loss: 0.2701 - accuracy: 0.9750 - 100ms/epoch - 14ms/step\n",
            "Epoch 172/300\n",
            "7/7 - 0s - loss: 0.2443 - accuracy: 0.9800 - 106ms/epoch - 15ms/step\n",
            "Epoch 173/300\n",
            "7/7 - 0s - loss: 0.3168 - accuracy: 0.9550 - 100ms/epoch - 14ms/step\n",
            "Epoch 174/300\n",
            "7/7 - 0s - loss: 0.3089 - accuracy: 0.9500 - 105ms/epoch - 15ms/step\n",
            "Epoch 175/300\n",
            "7/7 - 0s - loss: 0.3123 - accuracy: 0.9600 - 109ms/epoch - 16ms/step\n",
            "Epoch 176/300\n",
            "7/7 - 0s - loss: 0.2303 - accuracy: 0.9550 - 96ms/epoch - 14ms/step\n",
            "Epoch 177/300\n",
            "7/7 - 0s - loss: 0.3167 - accuracy: 0.9400 - 71ms/epoch - 10ms/step\n",
            "Epoch 178/300\n",
            "7/7 - 0s - loss: 0.3048 - accuracy: 0.9500 - 65ms/epoch - 9ms/step\n",
            "Epoch 179/300\n",
            "7/7 - 0s - loss: 0.2911 - accuracy: 0.9450 - 67ms/epoch - 10ms/step\n",
            "Epoch 180/300\n",
            "7/7 - 0s - loss: 0.2264 - accuracy: 0.9850 - 76ms/epoch - 11ms/step\n",
            "Epoch 181/300\n",
            "7/7 - 0s - loss: 0.2774 - accuracy: 0.9700 - 69ms/epoch - 10ms/step\n",
            "Epoch 182/300\n",
            "7/7 - 0s - loss: 0.2210 - accuracy: 0.9600 - 72ms/epoch - 10ms/step\n",
            "Epoch 183/300\n",
            "7/7 - 0s - loss: 0.2461 - accuracy: 0.9500 - 68ms/epoch - 10ms/step\n",
            "Epoch 184/300\n",
            "7/7 - 0s - loss: 0.2749 - accuracy: 0.9500 - 69ms/epoch - 10ms/step\n",
            "Epoch 185/300\n",
            "7/7 - 0s - loss: 0.2355 - accuracy: 0.9700 - 81ms/epoch - 12ms/step\n",
            "Epoch 186/300\n",
            "7/7 - 0s - loss: 0.2425 - accuracy: 0.9600 - 73ms/epoch - 10ms/step\n",
            "Epoch 187/300\n",
            "7/7 - 0s - loss: 0.2804 - accuracy: 0.9650 - 69ms/epoch - 10ms/step\n",
            "Epoch 188/300\n",
            "7/7 - 0s - loss: 0.2140 - accuracy: 0.9850 - 65ms/epoch - 9ms/step\n",
            "Epoch 189/300\n",
            "7/7 - 0s - loss: 0.2761 - accuracy: 0.9300 - 74ms/epoch - 11ms/step\n",
            "Epoch 190/300\n",
            "7/7 - 0s - loss: 0.2320 - accuracy: 0.9550 - 67ms/epoch - 10ms/step\n",
            "Epoch 191/300\n",
            "7/7 - 0s - loss: 0.2168 - accuracy: 0.9600 - 75ms/epoch - 11ms/step\n",
            "Epoch 192/300\n",
            "7/7 - 0s - loss: 0.2520 - accuracy: 0.9750 - 72ms/epoch - 10ms/step\n",
            "Epoch 193/300\n",
            "7/7 - 0s - loss: 0.2093 - accuracy: 0.9650 - 68ms/epoch - 10ms/step\n",
            "Epoch 194/300\n",
            "7/7 - 0s - loss: 0.2098 - accuracy: 0.9600 - 71ms/epoch - 10ms/step\n",
            "Epoch 195/300\n",
            "7/7 - 0s - loss: 0.2090 - accuracy: 0.9850 - 83ms/epoch - 12ms/step\n",
            "Epoch 196/300\n",
            "7/7 - 0s - loss: 0.2062 - accuracy: 0.9750 - 69ms/epoch - 10ms/step\n",
            "Epoch 197/300\n",
            "7/7 - 0s - loss: 0.1961 - accuracy: 0.9700 - 68ms/epoch - 10ms/step\n",
            "Epoch 198/300\n",
            "7/7 - 0s - loss: 0.2150 - accuracy: 0.9650 - 88ms/epoch - 13ms/step\n",
            "Epoch 199/300\n",
            "7/7 - 0s - loss: 0.1615 - accuracy: 0.9850 - 66ms/epoch - 9ms/step\n",
            "Epoch 200/300\n",
            "7/7 - 0s - loss: 0.2521 - accuracy: 0.9550 - 69ms/epoch - 10ms/step\n",
            "Epoch 201/300\n",
            "7/7 - 0s - loss: 0.1932 - accuracy: 0.9650 - 73ms/epoch - 10ms/step\n",
            "Epoch 202/300\n",
            "7/7 - 0s - loss: 0.2357 - accuracy: 0.9750 - 66ms/epoch - 9ms/step\n",
            "Epoch 203/300\n",
            "7/7 - 0s - loss: 0.1772 - accuracy: 0.9750 - 67ms/epoch - 10ms/step\n",
            "Epoch 204/300\n",
            "7/7 - 0s - loss: 0.2559 - accuracy: 0.9450 - 72ms/epoch - 10ms/step\n",
            "Epoch 205/300\n",
            "7/7 - 0s - loss: 0.1924 - accuracy: 0.9600 - 68ms/epoch - 10ms/step\n",
            "Epoch 206/300\n",
            "7/7 - 0s - loss: 0.2225 - accuracy: 0.9700 - 77ms/epoch - 11ms/step\n",
            "Epoch 207/300\n",
            "7/7 - 0s - loss: 0.1834 - accuracy: 0.9700 - 65ms/epoch - 9ms/step\n",
            "Epoch 208/300\n",
            "7/7 - 0s - loss: 0.1873 - accuracy: 0.9600 - 69ms/epoch - 10ms/step\n",
            "Epoch 209/300\n",
            "7/7 - 0s - loss: 0.1542 - accuracy: 0.9850 - 70ms/epoch - 10ms/step\n",
            "Epoch 210/300\n",
            "7/7 - 0s - loss: 0.2037 - accuracy: 0.9650 - 70ms/epoch - 10ms/step\n",
            "Epoch 211/300\n",
            "7/7 - 0s - loss: 0.1975 - accuracy: 0.9750 - 69ms/epoch - 10ms/step\n",
            "Epoch 212/300\n",
            "7/7 - 0s - loss: 0.2195 - accuracy: 0.9600 - 75ms/epoch - 11ms/step\n",
            "Epoch 213/300\n",
            "7/7 - 0s - loss: 0.2227 - accuracy: 0.9500 - 78ms/epoch - 11ms/step\n",
            "Epoch 214/300\n",
            "7/7 - 0s - loss: 0.2022 - accuracy: 0.9600 - 67ms/epoch - 10ms/step\n",
            "Epoch 215/300\n",
            "7/7 - 0s - loss: 0.2362 - accuracy: 0.9700 - 71ms/epoch - 10ms/step\n",
            "Epoch 216/300\n",
            "7/7 - 0s - loss: 0.1981 - accuracy: 0.9650 - 81ms/epoch - 12ms/step\n",
            "Epoch 217/300\n",
            "7/7 - 0s - loss: 0.1680 - accuracy: 0.9750 - 67ms/epoch - 10ms/step\n",
            "Epoch 218/300\n",
            "7/7 - 0s - loss: 0.1925 - accuracy: 0.9800 - 70ms/epoch - 10ms/step\n",
            "Epoch 219/300\n",
            "7/7 - 0s - loss: 0.1359 - accuracy: 0.9900 - 70ms/epoch - 10ms/step\n",
            "Epoch 220/300\n",
            "7/7 - 0s - loss: 0.2110 - accuracy: 0.9550 - 72ms/epoch - 10ms/step\n",
            "Epoch 221/300\n",
            "7/7 - 0s - loss: 0.1759 - accuracy: 0.9750 - 75ms/epoch - 11ms/step\n",
            "Epoch 222/300\n",
            "7/7 - 0s - loss: 0.1793 - accuracy: 0.9650 - 67ms/epoch - 10ms/step\n",
            "Epoch 223/300\n",
            "7/7 - 0s - loss: 0.1747 - accuracy: 0.9650 - 74ms/epoch - 11ms/step\n",
            "Epoch 224/300\n",
            "7/7 - 0s - loss: 0.1953 - accuracy: 0.9800 - 73ms/epoch - 10ms/step\n",
            "Epoch 225/300\n",
            "7/7 - 0s - loss: 0.1584 - accuracy: 0.9800 - 79ms/epoch - 11ms/step\n",
            "Epoch 226/300\n",
            "7/7 - 0s - loss: 0.1488 - accuracy: 0.9950 - 69ms/epoch - 10ms/step\n",
            "Epoch 227/300\n",
            "7/7 - 0s - loss: 0.1623 - accuracy: 0.9800 - 69ms/epoch - 10ms/step\n",
            "Epoch 228/300\n",
            "7/7 - 0s - loss: 0.1998 - accuracy: 0.9700 - 78ms/epoch - 11ms/step\n",
            "Epoch 229/300\n",
            "7/7 - 0s - loss: 0.1867 - accuracy: 0.9550 - 69ms/epoch - 10ms/step\n",
            "Epoch 230/300\n",
            "7/7 - 0s - loss: 0.1973 - accuracy: 0.9650 - 67ms/epoch - 10ms/step\n",
            "Epoch 231/300\n",
            "7/7 - 0s - loss: 0.1742 - accuracy: 0.9800 - 67ms/epoch - 10ms/step\n",
            "Epoch 232/300\n",
            "7/7 - 0s - loss: 0.1965 - accuracy: 0.9550 - 66ms/epoch - 9ms/step\n",
            "Epoch 233/300\n",
            "7/7 - 0s - loss: 0.1952 - accuracy: 0.9650 - 72ms/epoch - 10ms/step\n",
            "Epoch 234/300\n",
            "7/7 - 0s - loss: 0.2152 - accuracy: 0.9600 - 67ms/epoch - 10ms/step\n",
            "Epoch 235/300\n",
            "7/7 - 0s - loss: 0.1991 - accuracy: 0.9650 - 67ms/epoch - 10ms/step\n",
            "Epoch 236/300\n",
            "7/7 - 0s - loss: 0.1732 - accuracy: 0.9700 - 71ms/epoch - 10ms/step\n",
            "Epoch 237/300\n",
            "7/7 - 0s - loss: 0.1865 - accuracy: 0.9750 - 79ms/epoch - 11ms/step\n",
            "Epoch 238/300\n",
            "7/7 - 0s - loss: 0.1207 - accuracy: 0.9850 - 66ms/epoch - 9ms/step\n",
            "Epoch 239/300\n",
            "7/7 - 0s - loss: 0.1892 - accuracy: 0.9700 - 83ms/epoch - 12ms/step\n",
            "Epoch 240/300\n",
            "7/7 - 0s - loss: 0.1350 - accuracy: 0.9850 - 71ms/epoch - 10ms/step\n",
            "Epoch 241/300\n",
            "7/7 - 0s - loss: 0.1687 - accuracy: 0.9800 - 67ms/epoch - 10ms/step\n",
            "Epoch 242/300\n",
            "7/7 - 0s - loss: 0.1722 - accuracy: 0.9700 - 77ms/epoch - 11ms/step\n",
            "Epoch 243/300\n",
            "7/7 - 0s - loss: 0.1435 - accuracy: 0.9800 - 68ms/epoch - 10ms/step\n",
            "Epoch 244/300\n",
            "7/7 - 0s - loss: 0.1840 - accuracy: 0.9650 - 73ms/epoch - 10ms/step\n",
            "Epoch 245/300\n",
            "7/7 - 0s - loss: 0.1142 - accuracy: 0.9900 - 67ms/epoch - 10ms/step\n",
            "Epoch 246/300\n",
            "7/7 - 0s - loss: 0.1410 - accuracy: 0.9600 - 67ms/epoch - 10ms/step\n",
            "Epoch 247/300\n",
            "7/7 - 0s - loss: 0.1562 - accuracy: 0.9750 - 75ms/epoch - 11ms/step\n",
            "Epoch 248/300\n",
            "7/7 - 0s - loss: 0.1827 - accuracy: 0.9550 - 68ms/epoch - 10ms/step\n",
            "Epoch 249/300\n",
            "7/7 - 0s - loss: 0.0940 - accuracy: 0.9950 - 72ms/epoch - 10ms/step\n",
            "Epoch 250/300\n",
            "7/7 - 0s - loss: 0.1649 - accuracy: 0.9550 - 68ms/epoch - 10ms/step\n",
            "Epoch 251/300\n",
            "7/7 - 0s - loss: 0.1551 - accuracy: 0.9800 - 75ms/epoch - 11ms/step\n",
            "Epoch 252/300\n",
            "7/7 - 0s - loss: 0.1633 - accuracy: 0.9750 - 81ms/epoch - 12ms/step\n",
            "Epoch 253/300\n",
            "7/7 - 0s - loss: 0.1489 - accuracy: 0.9750 - 66ms/epoch - 9ms/step\n",
            "Epoch 254/300\n",
            "7/7 - 0s - loss: 0.1293 - accuracy: 0.9750 - 71ms/epoch - 10ms/step\n",
            "Epoch 255/300\n",
            "7/7 - 0s - loss: 0.1836 - accuracy: 0.9750 - 70ms/epoch - 10ms/step\n",
            "Epoch 256/300\n",
            "7/7 - 0s - loss: 0.1240 - accuracy: 0.9850 - 66ms/epoch - 9ms/step\n",
            "Epoch 257/300\n",
            "7/7 - 0s - loss: 0.1037 - accuracy: 0.9750 - 78ms/epoch - 11ms/step\n",
            "Epoch 258/300\n",
            "7/7 - 0s - loss: 0.1522 - accuracy: 0.9650 - 69ms/epoch - 10ms/step\n",
            "Epoch 259/300\n",
            "7/7 - 0s - loss: 0.1169 - accuracy: 0.9900 - 67ms/epoch - 10ms/step\n",
            "Epoch 260/300\n",
            "7/7 - 0s - loss: 0.1384 - accuracy: 0.9750 - 68ms/epoch - 10ms/step\n",
            "Epoch 261/300\n",
            "7/7 - 0s - loss: 0.1288 - accuracy: 0.9800 - 84ms/epoch - 12ms/step\n",
            "Epoch 262/300\n",
            "7/7 - 0s - loss: 0.1256 - accuracy: 0.9800 - 67ms/epoch - 10ms/step\n",
            "Epoch 263/300\n",
            "7/7 - 0s - loss: 0.1678 - accuracy: 0.9850 - 68ms/epoch - 10ms/step\n",
            "Epoch 264/300\n",
            "7/7 - 0s - loss: 0.1648 - accuracy: 0.9700 - 73ms/epoch - 10ms/step\n",
            "Epoch 265/300\n",
            "7/7 - 0s - loss: 0.1436 - accuracy: 0.9850 - 65ms/epoch - 9ms/step\n",
            "Epoch 266/300\n",
            "7/7 - 0s - loss: 0.0847 - accuracy: 1.0000 - 73ms/epoch - 10ms/step\n",
            "Epoch 267/300\n",
            "7/7 - 0s - loss: 0.1565 - accuracy: 0.9700 - 67ms/epoch - 10ms/step\n",
            "Epoch 268/300\n",
            "7/7 - 0s - loss: 0.1563 - accuracy: 0.9750 - 70ms/epoch - 10ms/step\n",
            "Epoch 269/300\n",
            "7/7 - 0s - loss: 0.1464 - accuracy: 0.9700 - 67ms/epoch - 10ms/step\n",
            "Epoch 270/300\n",
            "7/7 - 0s - loss: 0.1272 - accuracy: 0.9750 - 64ms/epoch - 9ms/step\n",
            "Epoch 271/300\n",
            "7/7 - 0s - loss: 0.1398 - accuracy: 0.9750 - 75ms/epoch - 11ms/step\n",
            "Epoch 272/300\n",
            "7/7 - 0s - loss: 0.1485 - accuracy: 0.9550 - 67ms/epoch - 10ms/step\n",
            "Epoch 273/300\n",
            "7/7 - 0s - loss: 0.1110 - accuracy: 0.9950 - 66ms/epoch - 9ms/step\n",
            "Epoch 274/300\n",
            "7/7 - 0s - loss: 0.1564 - accuracy: 0.9550 - 69ms/epoch - 10ms/step\n",
            "Epoch 275/300\n",
            "7/7 - 0s - loss: 0.1251 - accuracy: 0.9800 - 71ms/epoch - 10ms/step\n",
            "Epoch 276/300\n",
            "7/7 - 0s - loss: 0.1361 - accuracy: 0.9750 - 71ms/epoch - 10ms/step\n",
            "Epoch 277/300\n",
            "7/7 - 0s - loss: 0.1174 - accuracy: 0.9650 - 70ms/epoch - 10ms/step\n",
            "Epoch 278/300\n",
            "7/7 - 0s - loss: 0.1346 - accuracy: 0.9700 - 68ms/epoch - 10ms/step\n",
            "Epoch 279/300\n",
            "7/7 - 0s - loss: 0.1119 - accuracy: 0.9850 - 69ms/epoch - 10ms/step\n",
            "Epoch 280/300\n",
            "7/7 - 0s - loss: 0.1215 - accuracy: 0.9800 - 81ms/epoch - 12ms/step\n",
            "Epoch 281/300\n",
            "7/7 - 0s - loss: 0.1543 - accuracy: 0.9750 - 70ms/epoch - 10ms/step\n",
            "Epoch 282/300\n",
            "7/7 - 0s - loss: 0.1120 - accuracy: 0.9750 - 67ms/epoch - 10ms/step\n",
            "Epoch 283/300\n",
            "7/7 - 0s - loss: 0.1373 - accuracy: 0.9800 - 67ms/epoch - 10ms/step\n",
            "Epoch 284/300\n",
            "7/7 - 0s - loss: 0.1363 - accuracy: 0.9850 - 71ms/epoch - 10ms/step\n",
            "Epoch 285/300\n",
            "7/7 - 0s - loss: 0.1226 - accuracy: 0.9900 - 66ms/epoch - 9ms/step\n",
            "Epoch 286/300\n",
            "7/7 - 0s - loss: 0.1054 - accuracy: 0.9750 - 69ms/epoch - 10ms/step\n",
            "Epoch 287/300\n",
            "7/7 - 0s - loss: 0.0829 - accuracy: 0.9900 - 69ms/epoch - 10ms/step\n",
            "Epoch 288/300\n",
            "7/7 - 0s - loss: 0.1043 - accuracy: 0.9950 - 64ms/epoch - 9ms/step\n",
            "Epoch 289/300\n",
            "7/7 - 0s - loss: 0.1216 - accuracy: 0.9850 - 68ms/epoch - 10ms/step\n",
            "Epoch 290/300\n",
            "7/7 - 0s - loss: 0.1591 - accuracy: 0.9650 - 66ms/epoch - 9ms/step\n",
            "Epoch 291/300\n",
            "7/7 - 0s - loss: 0.1351 - accuracy: 0.9850 - 69ms/epoch - 10ms/step\n",
            "Epoch 292/300\n",
            "7/7 - 0s - loss: 0.0953 - accuracy: 0.9850 - 70ms/epoch - 10ms/step\n",
            "Epoch 293/300\n",
            "7/7 - 0s - loss: 0.1198 - accuracy: 0.9850 - 73ms/epoch - 10ms/step\n",
            "Epoch 294/300\n",
            "7/7 - 0s - loss: 0.0943 - accuracy: 0.9850 - 79ms/epoch - 11ms/step\n",
            "Epoch 295/300\n",
            "7/7 - 0s - loss: 0.0970 - accuracy: 0.9900 - 68ms/epoch - 10ms/step\n",
            "Epoch 296/300\n",
            "7/7 - 0s - loss: 0.1094 - accuracy: 0.9850 - 70ms/epoch - 10ms/step\n",
            "Epoch 297/300\n",
            "7/7 - 0s - loss: 0.0822 - accuracy: 1.0000 - 68ms/epoch - 10ms/step\n",
            "Epoch 298/300\n",
            "7/7 - 0s - loss: 0.1011 - accuracy: 0.9800 - 76ms/epoch - 11ms/step\n",
            "Epoch 299/300\n",
            "7/7 - 0s - loss: 0.0961 - accuracy: 0.9800 - 71ms/epoch - 10ms/step\n",
            "Epoch 300/300\n",
            "7/7 - 0s - loss: 0.0955 - accuracy: 0.9900 - 72ms/epoch - 10ms/step\n"
          ]
        }
      ]
    },
    {
      "cell_type": "markdown",
      "source": [
        "# **Evaluating The Model**"
      ],
      "metadata": {
        "id": "iwMc-oQl-yI-"
      }
    },
    {
      "cell_type": "code",
      "source": [
        "import matplotlib.pyplot as plt\n",
        "\n",
        "accuracy = history.history['accuracy']\n",
        "loss = history.history['loss']\n",
        "epochs = range(1, len(accuracy) + 1)\n",
        "\n",
        "plt.plot(epochs, accuracy, label='Accuracy')\n",
        "plt.plot(epochs, loss, label='Loss')\n",
        "plt.xlabel('Epochs')\n",
        "plt.ylabel('Value')\n",
        "plt.title('Model Accuracy and Loss')\n",
        "plt.legend()\n",
        "plt.show()"
      ],
      "metadata": {
        "id": "zeUmZj_M-xb7",
        "outputId": "5e998540-740b-474a-c8af-36b443ee4a0a",
        "colab": {
          "base_uri": "https://localhost:8080/",
          "height": 472
        }
      },
      "execution_count": null,
      "outputs": [
        {
          "output_type": "display_data",
          "data": {
            "text/plain": [
              "<Figure size 640x480 with 1 Axes>"
            ],
            "image/png": "[encoded data removed]"
          },
          "metadata": {}
        }
      ]
    },
    {
      "cell_type": "markdown",
      "source": [
        "# **Predicting**"
      ],
      "metadata": {
        "id": "GCjqADE8kyZv"
      }
    },
    {
      "cell_type": "code",
      "source": [
        "def preprocess_input(user_input):\n",
        "    tokenizer = keras.preprocessing.text.Tokenizer(lower=True, filters=' ')\n",
        "\n",
        "    word_index = load_word_index()\n",
        "    for recipe in data:\n",
        "        for ingredient in recipe['ingredients']:\n",
        "            tokenizer.fit_on_texts([ingredient])\n",
        "\n",
        "    word_index.update(tokenizer.word_index)\n",
        "    save_word_index(word_index)\n",
        "\n",
        "    # Tokenizing and padding the user input\n",
        "    user_data = tokenizer.texts_to_sequences(user_input)\n",
        "    user_data = [item for sublist in user_data for item in sublist]  # Flatten the nested list\n",
        "\n",
        "    # Padding the number of ingredients and words in the user data\n",
        "    user_data = pad_sequences([user_data], padding='post', maxlen=MAX_INGREDIENTS * MAX_WORDS_IN_INGREDIENT, value=0)\n",
        "\n",
        "    return user_data"
      ],
      "metadata": {
        "id": "Vx3xsAUta6fJ"
      },
      "execution_count": null,
      "outputs": []
    },
    {
      "cell_type": "code",
      "source": [
        "def get_top_labels(model, preprocessed_input, tags, top_k=5):\n",
        "    predictions = model.predict(preprocessed_input)\n",
        "    top_indices = np.argsort(predictions[0])[::-1][:top_k]\n",
        "    top_labels = [tags[index] for index in top_indices]\n",
        "    return top_labels, top_indices"
      ],
      "metadata": {
        "id": "dLKgOHCIa6Zm"
      },
      "execution_count": null,
      "outputs": []
    },
    {
      "cell_type": "code",
      "source": [
        "def predict_labels(ingredients_list):\n",
        "    preprocessed_input = preprocess_input(ingredients_list)\n",
        "    top_labels, top_indices = get_top_labels(model, preprocessed_input, tags, top_k=5)\n",
        "    return top_labels, top_indices"
      ],
      "metadata": {
        "id": "OXNbZZtQa6VL"
      },
      "execution_count": null,
      "outputs": []
    },
    {
      "cell_type": "code",
      "source": [
        "top_labels, top_indices = predict_labels([\"egg\",\"milk\",\"flour\"])\n",
        "print(\"Predicted Index: \" + \", \".join(str(item) for item in top_indices))\n",
        "print(\"Predicted recipe : \" + \", \".join(str(item) for item in top_labels))"
      ],
      "metadata": {
        "id": "sO9OxlrNwYdw",
        "colab": {
          "base_uri": "https://localhost:8080/"
        },
        "outputId": "5105f0ee-17d5-4ebb-a167-e83c67943678"
      },
      "execution_count": null,
      "outputs": [
        {
          "output_type": "stream",
          "name": "stderr",
          "text": [
            "WARNING:tensorflow:6 out of the last 6 calls to <function Model.make_predict_function.<locals>.predict_function at 0x7f53a67e9510> triggered tf.function retracing. Tracing is expensive and the excessive number of tracings could be due to (1) creating @tf.function repeatedly in a loop, (2) passing tensors with different shapes, (3) passing Python objects instead of tensors. For (1), please define your @tf.function outside of the loop. For (2), @tf.function has reduce_retracing=True option that can avoid unnecessary retracing. For (3), please refer to https://www.tensorflow.org/guide/function#controlling_retracing and https://www.tensorflow.org/api_docs/python/tf/function for  more details.\n"
          ]
        },
        {
          "output_type": "stream",
          "name": "stdout",
          "text": [
            "1/1 [==============================] - 0s 69ms/step\n",
            "Predicted Index: 47, 49, 83, 145, 189\n",
            "Predicted recipe : suesricemuffin, lemonloaf, nuttychocolatechunkcookies, peanutbutterpumpkincookies, cornpudding\n"
          ]
        }
      ]
    },
    {
      "cell_type": "markdown",
      "source": [
        "# **Saving Model**"
      ],
      "metadata": {
        "id": "d65xZVstk7mA"
      }
    },
    {
      "cell_type": "code",
      "source": [
        "keras.models.save_model(model, model_path)\n",
        "print('trained model saved')"
      ],
      "metadata": {
        "colab": {
          "base_uri": "https://localhost:8080/"
        },
        "id": "lsMEHbcdxfaY",
        "outputId": "acda21b1-b56c-44ca-b31a-e8c1a0cd5b77"
      },
      "execution_count": null,
      "outputs": [
        {
          "output_type": "stream",
          "name": "stdout",
          "text": [
            "trained model saved\n"
          ]
        }
      ]
    }
  ]
}